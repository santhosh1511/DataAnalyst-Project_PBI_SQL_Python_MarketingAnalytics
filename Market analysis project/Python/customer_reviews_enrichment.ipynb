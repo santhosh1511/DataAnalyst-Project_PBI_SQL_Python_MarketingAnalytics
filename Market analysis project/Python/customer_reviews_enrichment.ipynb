{
 "cells": [
  {
   "cell_type": "code",
   "execution_count": 12,
   "metadata": {},
   "outputs": [
    {
     "name": "stdout",
     "output_type": "stream",
     "text": [
      "File saved at: D:\\Market analysis project\\ExcelFiles\\fact_customer_reviews_with_sentiment.csv\n",
      "   ReviewID  CustomerID  ProductID  ReviewDate  Rating  \\\n",
      "0         1          77         18  23.12.2023       3   \n",
      "1         2          80         19  25.12.2024       5   \n",
      "2         3          50         13  26.01.2025       4   \n",
      "3         4          78         15  21.04.2025       3   \n",
      "4         5          64          2  16.07.2023       3   \n",
      "\n",
      "                             ReviewText  SentimentScore SentimentCategory  \\\n",
      "0  Average experience, nothing special.         -0.3089    Mixed Negative   \n",
      "1            The quality is  top-notch.          0.0000          Positive   \n",
      "2    Five stars for the quick delivery.          0.0000          Positive   \n",
      "3   Good quality, but could be cheaper.          0.2382    Mixed Positive   \n",
      "4  Average experience, nothing special.         -0.3089    Mixed Negative   \n",
      "\n",
      "  SentimentBucket  \n",
      "0    -0.49 to 0.0  \n",
      "1     0.0 to 0.49  \n",
      "2     0.0 to 0.49  \n",
      "3     0.0 to 0.49  \n",
      "4    -0.49 to 0.0  \n"
     ]
    },
    {
     "name": "stderr",
     "output_type": "stream",
     "text": [
      "[nltk_data] Downloading package vader_lexicon to\n",
      "[nltk_data]     C:\\Users\\Santh\\AppData\\Roaming\\nltk_data...\n",
      "[nltk_data]   Package vader_lexicon is already up-to-date!\n"
     ]
    }
   ],
   "source": [
    "import pandas as pd\n",
    "import nltk\n",
    "from nltk.sentiment.vader import SentimentIntensityAnalyzer\n",
    "\n",
    "# Download VADER lexicon (only needed once)\n",
    "nltk.download('vader_lexicon')\n",
    "\n",
    "# File paths\n",
    "input_file = \"D:\\\\Market analysis project\\\\ExcelFiles\\\\fact_customer_reviews.csv\"\n",
    "output_file = \"D:\\\\Market analysis project\\\\ExcelFiles\\\\fact_customer_reviews_with_sentiment.csv\"\n",
    "\n",
    "# Load data from CSV\n",
    "df = pd.read_csv(input_file, encoding_errors='ignore')\n",
    "\n",
    "# Initialize VADER Sentiment Analyzer\n",
    "sia = SentimentIntensityAnalyzer()\n",
    "\n",
    "# Function to calculate sentiment score\n",
    "def get_sentiment_score(text):\n",
    "    return sia.polarity_scores(str(text))['compound']\n",
    "\n",
    "# Function to categorize sentiment\n",
    "def categorize_sentiment(score, rating):\n",
    "    if score > 0.05:\n",
    "        return 'Positive' if rating >= 4 else 'Mixed Positive' if rating == 3 else 'Mixed Negative'\n",
    "    elif score < -0.05:\n",
    "        return 'Negative' if rating <= 2 else 'Mixed Negative' if rating == 3 else 'Mixed Positive'\n",
    "    return 'Positive' if rating >= 4 else 'Negative' if rating <= 2 else 'Neutral'\n",
    "\n",
    "# Function to bucket sentiment scores\n",
    "def sentiment_bucket(score):\n",
    "    return '0.5 to 1.0' if score >= 0.5 else '0.0 to 0.49' if score >= 0 else '-0.49 to 0.0' if score >= -0.5 else '-1.0 to -0.5'\n",
    "\n",
    "# Apply sentiment analysis functions\n",
    "df['SentimentScore'] = df['ReviewText'].astype(str).apply(get_sentiment_score)\n",
    "df['SentimentCategory'] = df.apply(lambda row: categorize_sentiment(row['SentimentScore'], row['Rating']), axis=1)\n",
    "df['SentimentBucket'] = df['SentimentScore'].apply(sentiment_bucket)\n",
    "\n",
    "# Save results to the specified directory\n",
    "df.to_csv(output_file, index=False)\n",
    "\n",
    "# Display first few rows\n",
    "print(f\"File saved at: {output_file}\")\n",
    "print(df.head())\n",
    "\n"
   ]
  }
 ],
 "metadata": {
  "kernelspec": {
   "display_name": "Python 3",
   "language": "python",
   "name": "python3"
  },
  "language_info": {
   "codemirror_mode": {
    "name": "ipython",
    "version": 3
   },
   "file_extension": ".py",
   "mimetype": "text/x-python",
   "name": "python",
   "nbconvert_exporter": "python",
   "pygments_lexer": "ipython3",
   "version": "3.12.4"
  }
 },
 "nbformat": 4,
 "nbformat_minor": 2
}
